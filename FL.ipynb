{
 "cells": [
  {
   "cell_type": "markdown",
   "metadata": {},
   "source": [
    "# CS-E4740 Federated Learning Project"
   ]
  },
  {
   "cell_type": "code",
   "execution_count": 1,
   "metadata": {},
   "outputs": [],
   "source": [
    "import numpy as np\n",
    "import pandas as pd\n",
    "import matplotlib.pyplot as plt\n",
    "import networkx as nx \n",
    "\n",
    "from sklearn.model_selection import train_test_split\n",
    "from sklearn.metrics import mean_squared_error\n",
    "from tqdm import tqdm\n",
    "SEED = 42"
   ]
  },
  {
   "cell_type": "markdown",
   "metadata": {},
   "source": [
    "## 1 Dataset\n",
    "https://microsoft.github.io/r-server-hospital-length-of-stay/input_data.html\n",
    "\n",
    "### 1.1 Feature Engineering\n",
    "\n",
    "Here, we just eliminate irrelevant or ambigious features. Also, convert some features to one-hot-encodings. \n",
    "\n",
    "Important: No preprocessing here. We prefer to preprocess data in local datasets."
   ]
  },
  {
   "cell_type": "code",
   "execution_count": 2,
   "metadata": {},
   "outputs": [
    {
     "data": {
      "text/html": [
       "<div>\n",
       "<style scoped>\n",
       "    .dataframe tbody tr th:only-of-type {\n",
       "        vertical-align: middle;\n",
       "    }\n",
       "\n",
       "    .dataframe tbody tr th {\n",
       "        vertical-align: top;\n",
       "    }\n",
       "\n",
       "    .dataframe thead th {\n",
       "        text-align: right;\n",
       "    }\n",
       "</style>\n",
       "<table border=\"1\" class=\"dataframe\">\n",
       "  <thead>\n",
       "    <tr style=\"text-align: right;\">\n",
       "      <th></th>\n",
       "      <th>eid</th>\n",
       "      <th>vdate</th>\n",
       "      <th>rcount</th>\n",
       "      <th>gender</th>\n",
       "      <th>dialysisrenalendstage</th>\n",
       "      <th>asthma</th>\n",
       "      <th>irondef</th>\n",
       "      <th>pneum</th>\n",
       "      <th>substancedependence</th>\n",
       "      <th>psychologicaldisordermajor</th>\n",
       "      <th>...</th>\n",
       "      <th>glucose</th>\n",
       "      <th>bloodureanitro</th>\n",
       "      <th>creatinine</th>\n",
       "      <th>bmi</th>\n",
       "      <th>pulse</th>\n",
       "      <th>respiration</th>\n",
       "      <th>secondarydiagnosisnonicd9</th>\n",
       "      <th>discharged</th>\n",
       "      <th>facid</th>\n",
       "      <th>lengthofstay</th>\n",
       "    </tr>\n",
       "  </thead>\n",
       "  <tbody>\n",
       "    <tr>\n",
       "      <th>0</th>\n",
       "      <td>1</td>\n",
       "      <td>8/29/2012</td>\n",
       "      <td>0</td>\n",
       "      <td>F</td>\n",
       "      <td>0</td>\n",
       "      <td>0</td>\n",
       "      <td>0</td>\n",
       "      <td>0</td>\n",
       "      <td>0</td>\n",
       "      <td>0</td>\n",
       "      <td>...</td>\n",
       "      <td>192.476918</td>\n",
       "      <td>12.0</td>\n",
       "      <td>1.390722</td>\n",
       "      <td>30.432418</td>\n",
       "      <td>96</td>\n",
       "      <td>6.5</td>\n",
       "      <td>4</td>\n",
       "      <td>9/1/2012</td>\n",
       "      <td>B</td>\n",
       "      <td>3</td>\n",
       "    </tr>\n",
       "    <tr>\n",
       "      <th>1</th>\n",
       "      <td>2</td>\n",
       "      <td>5/26/2012</td>\n",
       "      <td>5+</td>\n",
       "      <td>F</td>\n",
       "      <td>0</td>\n",
       "      <td>0</td>\n",
       "      <td>0</td>\n",
       "      <td>0</td>\n",
       "      <td>0</td>\n",
       "      <td>0</td>\n",
       "      <td>...</td>\n",
       "      <td>94.078507</td>\n",
       "      <td>8.0</td>\n",
       "      <td>0.943164</td>\n",
       "      <td>28.460516</td>\n",
       "      <td>61</td>\n",
       "      <td>6.5</td>\n",
       "      <td>1</td>\n",
       "      <td>6/2/2012</td>\n",
       "      <td>A</td>\n",
       "      <td>7</td>\n",
       "    </tr>\n",
       "    <tr>\n",
       "      <th>2</th>\n",
       "      <td>3</td>\n",
       "      <td>9/22/2012</td>\n",
       "      <td>1</td>\n",
       "      <td>F</td>\n",
       "      <td>0</td>\n",
       "      <td>0</td>\n",
       "      <td>0</td>\n",
       "      <td>0</td>\n",
       "      <td>0</td>\n",
       "      <td>0</td>\n",
       "      <td>...</td>\n",
       "      <td>130.530524</td>\n",
       "      <td>12.0</td>\n",
       "      <td>1.065750</td>\n",
       "      <td>28.843812</td>\n",
       "      <td>64</td>\n",
       "      <td>6.5</td>\n",
       "      <td>2</td>\n",
       "      <td>9/25/2012</td>\n",
       "      <td>B</td>\n",
       "      <td>3</td>\n",
       "    </tr>\n",
       "    <tr>\n",
       "      <th>3</th>\n",
       "      <td>4</td>\n",
       "      <td>8/9/2012</td>\n",
       "      <td>0</td>\n",
       "      <td>F</td>\n",
       "      <td>0</td>\n",
       "      <td>0</td>\n",
       "      <td>0</td>\n",
       "      <td>0</td>\n",
       "      <td>0</td>\n",
       "      <td>0</td>\n",
       "      <td>...</td>\n",
       "      <td>163.377028</td>\n",
       "      <td>12.0</td>\n",
       "      <td>0.906862</td>\n",
       "      <td>27.959007</td>\n",
       "      <td>76</td>\n",
       "      <td>6.5</td>\n",
       "      <td>1</td>\n",
       "      <td>8/10/2012</td>\n",
       "      <td>A</td>\n",
       "      <td>1</td>\n",
       "    </tr>\n",
       "    <tr>\n",
       "      <th>4</th>\n",
       "      <td>5</td>\n",
       "      <td>12/20/2012</td>\n",
       "      <td>0</td>\n",
       "      <td>F</td>\n",
       "      <td>0</td>\n",
       "      <td>0</td>\n",
       "      <td>0</td>\n",
       "      <td>1</td>\n",
       "      <td>0</td>\n",
       "      <td>1</td>\n",
       "      <td>...</td>\n",
       "      <td>94.886654</td>\n",
       "      <td>11.5</td>\n",
       "      <td>1.242854</td>\n",
       "      <td>30.258927</td>\n",
       "      <td>67</td>\n",
       "      <td>5.6</td>\n",
       "      <td>2</td>\n",
       "      <td>12/24/2012</td>\n",
       "      <td>E</td>\n",
       "      <td>4</td>\n",
       "    </tr>\n",
       "  </tbody>\n",
       "</table>\n",
       "<p>5 rows × 28 columns</p>\n",
       "</div>"
      ],
      "text/plain": [
       "   eid       vdate rcount gender  dialysisrenalendstage  asthma  irondef  \\\n",
       "0    1   8/29/2012      0      F                      0       0        0   \n",
       "1    2   5/26/2012     5+      F                      0       0        0   \n",
       "2    3   9/22/2012      1      F                      0       0        0   \n",
       "3    4    8/9/2012      0      F                      0       0        0   \n",
       "4    5  12/20/2012      0      F                      0       0        0   \n",
       "\n",
       "   pneum  substancedependence  psychologicaldisordermajor  ...     glucose  \\\n",
       "0      0                    0                           0  ...  192.476918   \n",
       "1      0                    0                           0  ...   94.078507   \n",
       "2      0                    0                           0  ...  130.530524   \n",
       "3      0                    0                           0  ...  163.377028   \n",
       "4      1                    0                           1  ...   94.886654   \n",
       "\n",
       "   bloodureanitro  creatinine        bmi  pulse  respiration  \\\n",
       "0            12.0    1.390722  30.432418     96          6.5   \n",
       "1             8.0    0.943164  28.460516     61          6.5   \n",
       "2            12.0    1.065750  28.843812     64          6.5   \n",
       "3            12.0    0.906862  27.959007     76          6.5   \n",
       "4            11.5    1.242854  30.258927     67          5.6   \n",
       "\n",
       "   secondarydiagnosisnonicd9  discharged  facid  lengthofstay  \n",
       "0                          4    9/1/2012      B             3  \n",
       "1                          1    6/2/2012      A             7  \n",
       "2                          2   9/25/2012      B             3  \n",
       "3                          1   8/10/2012      A             1  \n",
       "4                          2  12/24/2012      E             4  \n",
       "\n",
       "[5 rows x 28 columns]"
      ]
     },
     "execution_count": 2,
     "metadata": {},
     "output_type": "execute_result"
    }
   ],
   "source": [
    "df = pd.read_csv(\"./LengthOfStay.csv\")\n",
    "df.head()"
   ]
  },
  {
   "cell_type": "code",
   "execution_count": 3,
   "metadata": {},
   "outputs": [
    {
     "data": {
      "text/html": [
       "<div>\n",
       "<style scoped>\n",
       "    .dataframe tbody tr th:only-of-type {\n",
       "        vertical-align: middle;\n",
       "    }\n",
       "\n",
       "    .dataframe tbody tr th {\n",
       "        vertical-align: top;\n",
       "    }\n",
       "\n",
       "    .dataframe thead th {\n",
       "        text-align: right;\n",
       "    }\n",
       "</style>\n",
       "<table border=\"1\" class=\"dataframe\">\n",
       "  <thead>\n",
       "    <tr style=\"text-align: right;\">\n",
       "      <th></th>\n",
       "      <th>gender</th>\n",
       "      <th>dialysisrenalendstage</th>\n",
       "      <th>asthma</th>\n",
       "      <th>irondef</th>\n",
       "      <th>pneum</th>\n",
       "      <th>substancedependence</th>\n",
       "      <th>psychologicaldisordermajor</th>\n",
       "      <th>depress</th>\n",
       "      <th>psychother</th>\n",
       "      <th>fibrosisandother</th>\n",
       "      <th>...</th>\n",
       "      <th>pulse</th>\n",
       "      <th>respiration</th>\n",
       "      <th>facid</th>\n",
       "      <th>lengthofstay</th>\n",
       "      <th>rcount_0</th>\n",
       "      <th>rcount_1</th>\n",
       "      <th>rcount_2</th>\n",
       "      <th>rcount_3</th>\n",
       "      <th>rcount_4</th>\n",
       "      <th>rcount_5</th>\n",
       "    </tr>\n",
       "  </thead>\n",
       "  <tbody>\n",
       "    <tr>\n",
       "      <th>0</th>\n",
       "      <td>F</td>\n",
       "      <td>0</td>\n",
       "      <td>0</td>\n",
       "      <td>0</td>\n",
       "      <td>0</td>\n",
       "      <td>0</td>\n",
       "      <td>0</td>\n",
       "      <td>0</td>\n",
       "      <td>0</td>\n",
       "      <td>0</td>\n",
       "      <td>...</td>\n",
       "      <td>96</td>\n",
       "      <td>6.5</td>\n",
       "      <td>B</td>\n",
       "      <td>3</td>\n",
       "      <td>True</td>\n",
       "      <td>False</td>\n",
       "      <td>False</td>\n",
       "      <td>False</td>\n",
       "      <td>False</td>\n",
       "      <td>False</td>\n",
       "    </tr>\n",
       "    <tr>\n",
       "      <th>1</th>\n",
       "      <td>F</td>\n",
       "      <td>0</td>\n",
       "      <td>0</td>\n",
       "      <td>0</td>\n",
       "      <td>0</td>\n",
       "      <td>0</td>\n",
       "      <td>0</td>\n",
       "      <td>0</td>\n",
       "      <td>0</td>\n",
       "      <td>0</td>\n",
       "      <td>...</td>\n",
       "      <td>61</td>\n",
       "      <td>6.5</td>\n",
       "      <td>A</td>\n",
       "      <td>7</td>\n",
       "      <td>False</td>\n",
       "      <td>False</td>\n",
       "      <td>False</td>\n",
       "      <td>False</td>\n",
       "      <td>False</td>\n",
       "      <td>True</td>\n",
       "    </tr>\n",
       "    <tr>\n",
       "      <th>2</th>\n",
       "      <td>F</td>\n",
       "      <td>0</td>\n",
       "      <td>0</td>\n",
       "      <td>0</td>\n",
       "      <td>0</td>\n",
       "      <td>0</td>\n",
       "      <td>0</td>\n",
       "      <td>0</td>\n",
       "      <td>0</td>\n",
       "      <td>0</td>\n",
       "      <td>...</td>\n",
       "      <td>64</td>\n",
       "      <td>6.5</td>\n",
       "      <td>B</td>\n",
       "      <td>3</td>\n",
       "      <td>False</td>\n",
       "      <td>True</td>\n",
       "      <td>False</td>\n",
       "      <td>False</td>\n",
       "      <td>False</td>\n",
       "      <td>False</td>\n",
       "    </tr>\n",
       "    <tr>\n",
       "      <th>3</th>\n",
       "      <td>F</td>\n",
       "      <td>0</td>\n",
       "      <td>0</td>\n",
       "      <td>0</td>\n",
       "      <td>0</td>\n",
       "      <td>0</td>\n",
       "      <td>0</td>\n",
       "      <td>0</td>\n",
       "      <td>0</td>\n",
       "      <td>0</td>\n",
       "      <td>...</td>\n",
       "      <td>76</td>\n",
       "      <td>6.5</td>\n",
       "      <td>A</td>\n",
       "      <td>1</td>\n",
       "      <td>True</td>\n",
       "      <td>False</td>\n",
       "      <td>False</td>\n",
       "      <td>False</td>\n",
       "      <td>False</td>\n",
       "      <td>False</td>\n",
       "    </tr>\n",
       "    <tr>\n",
       "      <th>4</th>\n",
       "      <td>F</td>\n",
       "      <td>0</td>\n",
       "      <td>0</td>\n",
       "      <td>0</td>\n",
       "      <td>1</td>\n",
       "      <td>0</td>\n",
       "      <td>1</td>\n",
       "      <td>0</td>\n",
       "      <td>0</td>\n",
       "      <td>0</td>\n",
       "      <td>...</td>\n",
       "      <td>67</td>\n",
       "      <td>5.6</td>\n",
       "      <td>E</td>\n",
       "      <td>4</td>\n",
       "      <td>True</td>\n",
       "      <td>False</td>\n",
       "      <td>False</td>\n",
       "      <td>False</td>\n",
       "      <td>False</td>\n",
       "      <td>False</td>\n",
       "    </tr>\n",
       "  </tbody>\n",
       "</table>\n",
       "<p>5 rows × 29 columns</p>\n",
       "</div>"
      ],
      "text/plain": [
       "  gender  dialysisrenalendstage  asthma  irondef  pneum  substancedependence  \\\n",
       "0      F                      0       0        0      0                    0   \n",
       "1      F                      0       0        0      0                    0   \n",
       "2      F                      0       0        0      0                    0   \n",
       "3      F                      0       0        0      0                    0   \n",
       "4      F                      0       0        0      1                    0   \n",
       "\n",
       "   psychologicaldisordermajor  depress  psychother  fibrosisandother  ...  \\\n",
       "0                           0        0           0                 0  ...   \n",
       "1                           0        0           0                 0  ...   \n",
       "2                           0        0           0                 0  ...   \n",
       "3                           0        0           0                 0  ...   \n",
       "4                           1        0           0                 0  ...   \n",
       "\n",
       "   pulse  respiration  facid  lengthofstay  rcount_0  rcount_1  rcount_2  \\\n",
       "0     96          6.5      B             3      True     False     False   \n",
       "1     61          6.5      A             7     False     False     False   \n",
       "2     64          6.5      B             3     False      True     False   \n",
       "3     76          6.5      A             1      True     False     False   \n",
       "4     67          5.6      E             4      True     False     False   \n",
       "\n",
       "   rcount_3  rcount_4  rcount_5  \n",
       "0     False     False     False  \n",
       "1     False     False      True  \n",
       "2     False     False     False  \n",
       "3     False     False     False  \n",
       "4     False     False     False  \n",
       "\n",
       "[5 rows x 29 columns]"
      ]
     },
     "execution_count": 3,
     "metadata": {},
     "output_type": "execute_result"
    }
   ],
   "source": [
    "df.loc[df.rcount == \"5+\", \"rcount\"] = 5\n",
    "df.rcount = df.rcount.astype(int)\n",
    "df = pd.concat((df, pd.get_dummies(df.rcount, prefix=\"rcount\")), axis=1)\n",
    "# Drop irrelevant and ambigious colums\n",
    "df = df.drop([\"eid\", \"rcount\", \"vdate\", \"discharged\",  \"secondarydiagnosisnonicd9\"], axis=1)\n",
    "df.head()"
   ]
  },
  {
   "cell_type": "code",
   "execution_count": 4,
   "metadata": {},
   "outputs": [],
   "source": [
    "df = df.assign(gender=(df.gender == \"F\").astype(int))\n",
    "binary_cols = ['dialysisrenalendstage', 'asthma', 'irondef', 'pneum', 'substancedependence', 'psychologicaldisordermajor', 'depress', 'psychother', 'fibrosisandother', 'malnutrition']\n",
    "\n",
    "# Generate another feature that indicates how many conditions the patient has\n",
    "df = df.assign(n_conditions=df[binary_cols].sum(1))\n",
    "df = df.drop(binary_cols, axis=1)"
   ]
  },
  {
   "cell_type": "code",
   "execution_count": 5,
   "metadata": {},
   "outputs": [
    {
     "data": {
      "text/html": [
       "<div>\n",
       "<style scoped>\n",
       "    .dataframe tbody tr th:only-of-type {\n",
       "        vertical-align: middle;\n",
       "    }\n",
       "\n",
       "    .dataframe tbody tr th {\n",
       "        vertical-align: top;\n",
       "    }\n",
       "\n",
       "    .dataframe thead th {\n",
       "        text-align: right;\n",
       "    }\n",
       "</style>\n",
       "<table border=\"1\" class=\"dataframe\">\n",
       "  <thead>\n",
       "    <tr style=\"text-align: right;\">\n",
       "      <th></th>\n",
       "      <th>gender</th>\n",
       "      <th>hemo</th>\n",
       "      <th>hematocrit</th>\n",
       "      <th>neutrophils</th>\n",
       "      <th>sodium</th>\n",
       "      <th>glucose</th>\n",
       "      <th>bloodureanitro</th>\n",
       "      <th>creatinine</th>\n",
       "      <th>bmi</th>\n",
       "      <th>pulse</th>\n",
       "      <th>respiration</th>\n",
       "      <th>facid</th>\n",
       "      <th>lengthofstay</th>\n",
       "      <th>rcount_0</th>\n",
       "      <th>rcount_1</th>\n",
       "      <th>rcount_2</th>\n",
       "      <th>rcount_3</th>\n",
       "      <th>rcount_4</th>\n",
       "      <th>rcount_5</th>\n",
       "      <th>n_conditions</th>\n",
       "    </tr>\n",
       "  </thead>\n",
       "  <tbody>\n",
       "    <tr>\n",
       "      <th>0</th>\n",
       "      <td>1</td>\n",
       "      <td>0</td>\n",
       "      <td>11.50</td>\n",
       "      <td>14.20</td>\n",
       "      <td>140.361132</td>\n",
       "      <td>192.476918</td>\n",
       "      <td>12.0</td>\n",
       "      <td>1.390722</td>\n",
       "      <td>30.432418</td>\n",
       "      <td>96</td>\n",
       "      <td>6.5</td>\n",
       "      <td>B</td>\n",
       "      <td>3</td>\n",
       "      <td>True</td>\n",
       "      <td>False</td>\n",
       "      <td>False</td>\n",
       "      <td>False</td>\n",
       "      <td>False</td>\n",
       "      <td>False</td>\n",
       "      <td>0</td>\n",
       "    </tr>\n",
       "    <tr>\n",
       "      <th>1</th>\n",
       "      <td>1</td>\n",
       "      <td>0</td>\n",
       "      <td>9.00</td>\n",
       "      <td>4.10</td>\n",
       "      <td>136.731692</td>\n",
       "      <td>94.078507</td>\n",
       "      <td>8.0</td>\n",
       "      <td>0.943164</td>\n",
       "      <td>28.460516</td>\n",
       "      <td>61</td>\n",
       "      <td>6.5</td>\n",
       "      <td>A</td>\n",
       "      <td>7</td>\n",
       "      <td>False</td>\n",
       "      <td>False</td>\n",
       "      <td>False</td>\n",
       "      <td>False</td>\n",
       "      <td>False</td>\n",
       "      <td>True</td>\n",
       "      <td>0</td>\n",
       "    </tr>\n",
       "    <tr>\n",
       "      <th>2</th>\n",
       "      <td>1</td>\n",
       "      <td>0</td>\n",
       "      <td>8.40</td>\n",
       "      <td>8.90</td>\n",
       "      <td>133.058514</td>\n",
       "      <td>130.530524</td>\n",
       "      <td>12.0</td>\n",
       "      <td>1.065750</td>\n",
       "      <td>28.843812</td>\n",
       "      <td>64</td>\n",
       "      <td>6.5</td>\n",
       "      <td>B</td>\n",
       "      <td>3</td>\n",
       "      <td>False</td>\n",
       "      <td>True</td>\n",
       "      <td>False</td>\n",
       "      <td>False</td>\n",
       "      <td>False</td>\n",
       "      <td>False</td>\n",
       "      <td>0</td>\n",
       "    </tr>\n",
       "    <tr>\n",
       "      <th>3</th>\n",
       "      <td>1</td>\n",
       "      <td>0</td>\n",
       "      <td>11.90</td>\n",
       "      <td>9.40</td>\n",
       "      <td>138.994023</td>\n",
       "      <td>163.377028</td>\n",
       "      <td>12.0</td>\n",
       "      <td>0.906862</td>\n",
       "      <td>27.959007</td>\n",
       "      <td>76</td>\n",
       "      <td>6.5</td>\n",
       "      <td>A</td>\n",
       "      <td>1</td>\n",
       "      <td>True</td>\n",
       "      <td>False</td>\n",
       "      <td>False</td>\n",
       "      <td>False</td>\n",
       "      <td>False</td>\n",
       "      <td>False</td>\n",
       "      <td>0</td>\n",
       "    </tr>\n",
       "    <tr>\n",
       "      <th>4</th>\n",
       "      <td>1</td>\n",
       "      <td>0</td>\n",
       "      <td>9.10</td>\n",
       "      <td>9.05</td>\n",
       "      <td>138.634836</td>\n",
       "      <td>94.886654</td>\n",
       "      <td>11.5</td>\n",
       "      <td>1.242854</td>\n",
       "      <td>30.258927</td>\n",
       "      <td>67</td>\n",
       "      <td>5.6</td>\n",
       "      <td>E</td>\n",
       "      <td>4</td>\n",
       "      <td>True</td>\n",
       "      <td>False</td>\n",
       "      <td>False</td>\n",
       "      <td>False</td>\n",
       "      <td>False</td>\n",
       "      <td>False</td>\n",
       "      <td>2</td>\n",
       "    </tr>\n",
       "    <tr>\n",
       "      <th>5</th>\n",
       "      <td>0</td>\n",
       "      <td>0</td>\n",
       "      <td>14.80</td>\n",
       "      <td>17.80</td>\n",
       "      <td>136.593064</td>\n",
       "      <td>120.265259</td>\n",
       "      <td>11.0</td>\n",
       "      <td>0.884663</td>\n",
       "      <td>27.875940</td>\n",
       "      <td>83</td>\n",
       "      <td>6.1</td>\n",
       "      <td>B</td>\n",
       "      <td>6</td>\n",
       "      <td>False</td>\n",
       "      <td>False</td>\n",
       "      <td>False</td>\n",
       "      <td>True</td>\n",
       "      <td>False</td>\n",
       "      <td>False</td>\n",
       "      <td>0</td>\n",
       "    </tr>\n",
       "    <tr>\n",
       "      <th>6</th>\n",
       "      <td>1</td>\n",
       "      <td>0</td>\n",
       "      <td>9.40</td>\n",
       "      <td>8.50</td>\n",
       "      <td>137.151328</td>\n",
       "      <td>124.335692</td>\n",
       "      <td>6.0</td>\n",
       "      <td>0.923083</td>\n",
       "      <td>29.928817</td>\n",
       "      <td>68</td>\n",
       "      <td>6.5</td>\n",
       "      <td>A</td>\n",
       "      <td>6</td>\n",
       "      <td>False</td>\n",
       "      <td>False</td>\n",
       "      <td>False</td>\n",
       "      <td>False</td>\n",
       "      <td>True</td>\n",
       "      <td>False</td>\n",
       "      <td>0</td>\n",
       "    </tr>\n",
       "    <tr>\n",
       "      <th>7</th>\n",
       "      <td>1</td>\n",
       "      <td>0</td>\n",
       "      <td>11.25</td>\n",
       "      <td>7.15</td>\n",
       "      <td>136.069688</td>\n",
       "      <td>152.265862</td>\n",
       "      <td>11.0</td>\n",
       "      <td>0.768106</td>\n",
       "      <td>32.999171</td>\n",
       "      <td>63</td>\n",
       "      <td>6.0</td>\n",
       "      <td>E</td>\n",
       "      <td>3</td>\n",
       "      <td>True</td>\n",
       "      <td>False</td>\n",
       "      <td>False</td>\n",
       "      <td>False</td>\n",
       "      <td>False</td>\n",
       "      <td>False</td>\n",
       "      <td>1</td>\n",
       "    </tr>\n",
       "    <tr>\n",
       "      <th>8</th>\n",
       "      <td>1</td>\n",
       "      <td>0</td>\n",
       "      <td>11.90</td>\n",
       "      <td>9.40</td>\n",
       "      <td>135.980274</td>\n",
       "      <td>100.283199</td>\n",
       "      <td>12.0</td>\n",
       "      <td>1.178786</td>\n",
       "      <td>28.802682</td>\n",
       "      <td>69</td>\n",
       "      <td>6.5</td>\n",
       "      <td>E</td>\n",
       "      <td>3</td>\n",
       "      <td>True</td>\n",
       "      <td>False</td>\n",
       "      <td>False</td>\n",
       "      <td>False</td>\n",
       "      <td>False</td>\n",
       "      <td>False</td>\n",
       "      <td>1</td>\n",
       "    </tr>\n",
       "    <tr>\n",
       "      <th>9</th>\n",
       "      <td>1</td>\n",
       "      <td>0</td>\n",
       "      <td>10.70</td>\n",
       "      <td>8.50</td>\n",
       "      <td>136.893431</td>\n",
       "      <td>167.066115</td>\n",
       "      <td>10.0</td>\n",
       "      <td>1.585072</td>\n",
       "      <td>32.503727</td>\n",
       "      <td>65</td>\n",
       "      <td>6.5</td>\n",
       "      <td>E</td>\n",
       "      <td>2</td>\n",
       "      <td>True</td>\n",
       "      <td>False</td>\n",
       "      <td>False</td>\n",
       "      <td>False</td>\n",
       "      <td>False</td>\n",
       "      <td>False</td>\n",
       "      <td>0</td>\n",
       "    </tr>\n",
       "  </tbody>\n",
       "</table>\n",
       "</div>"
      ],
      "text/plain": [
       "   gender  hemo  hematocrit  neutrophils      sodium     glucose  \\\n",
       "0       1     0       11.50        14.20  140.361132  192.476918   \n",
       "1       1     0        9.00         4.10  136.731692   94.078507   \n",
       "2       1     0        8.40         8.90  133.058514  130.530524   \n",
       "3       1     0       11.90         9.40  138.994023  163.377028   \n",
       "4       1     0        9.10         9.05  138.634836   94.886654   \n",
       "5       0     0       14.80        17.80  136.593064  120.265259   \n",
       "6       1     0        9.40         8.50  137.151328  124.335692   \n",
       "7       1     0       11.25         7.15  136.069688  152.265862   \n",
       "8       1     0       11.90         9.40  135.980274  100.283199   \n",
       "9       1     0       10.70         8.50  136.893431  167.066115   \n",
       "\n",
       "   bloodureanitro  creatinine        bmi  pulse  respiration facid  \\\n",
       "0            12.0    1.390722  30.432418     96          6.5     B   \n",
       "1             8.0    0.943164  28.460516     61          6.5     A   \n",
       "2            12.0    1.065750  28.843812     64          6.5     B   \n",
       "3            12.0    0.906862  27.959007     76          6.5     A   \n",
       "4            11.5    1.242854  30.258927     67          5.6     E   \n",
       "5            11.0    0.884663  27.875940     83          6.1     B   \n",
       "6             6.0    0.923083  29.928817     68          6.5     A   \n",
       "7            11.0    0.768106  32.999171     63          6.0     E   \n",
       "8            12.0    1.178786  28.802682     69          6.5     E   \n",
       "9            10.0    1.585072  32.503727     65          6.5     E   \n",
       "\n",
       "   lengthofstay  rcount_0  rcount_1  rcount_2  rcount_3  rcount_4  rcount_5  \\\n",
       "0             3      True     False     False     False     False     False   \n",
       "1             7     False     False     False     False     False      True   \n",
       "2             3     False      True     False     False     False     False   \n",
       "3             1      True     False     False     False     False     False   \n",
       "4             4      True     False     False     False     False     False   \n",
       "5             6     False     False     False      True     False     False   \n",
       "6             6     False     False     False     False      True     False   \n",
       "7             3      True     False     False     False     False     False   \n",
       "8             3      True     False     False     False     False     False   \n",
       "9             2      True     False     False     False     False     False   \n",
       "\n",
       "   n_conditions  \n",
       "0             0  \n",
       "1             0  \n",
       "2             0  \n",
       "3             0  \n",
       "4             2  \n",
       "5             0  \n",
       "6             0  \n",
       "7             1  \n",
       "8             1  \n",
       "9             0  "
      ]
     },
     "execution_count": 5,
     "metadata": {},
     "output_type": "execute_result"
    }
   ],
   "source": [
    "facilities = len(df.facid.unique())\n",
    "df.head(10)"
   ]
  },
  {
   "cell_type": "markdown",
   "metadata": {},
   "source": [
    "## 2 Emprical Graph and Preprocessing"
   ]
  },
  {
   "cell_type": "code",
   "execution_count": 6,
   "metadata": {},
   "outputs": [
    {
     "data": {
      "text/plain": [
       "18"
      ]
     },
     "execution_count": 6,
     "metadata": {},
     "output_type": "execute_result"
    }
   ],
   "source": [
    "label_col = \"lengthofstay\"\n",
    "facility_id_col = \"facid\"\n",
    "feature_cols = df.columns.to_list()\n",
    "feature_cols.remove(label_col)\n",
    "feature_cols.remove(facility_id_col)\n",
    "numerical_feature_cols = ['hematocrit', 'neutrophils', 'sodium', 'glucose', 'bloodureanitro', 'creatinine', 'bmi', 'pulse', 'respiration', 'n_conditions']\n",
    "len(feature_cols)"
   ]
  },
  {
   "cell_type": "code",
   "execution_count": 7,
   "metadata": {},
   "outputs": [],
   "source": [
    "def get_emprical_graph(data : pd.DataFrame, print_sizes : bool = False):\n",
    "    \"\"\"\n",
    "    Adds nodes to empirical graph. \n",
    "    Applies standard scaling to features of each local dataset.\n",
    "\n",
    "    Inputs:\n",
    "    data (pd.DataFrame): Dataset where data of each hospital mixed\n",
    "    print_sizes (bool): If true -> function prints the dataset sizes for each node\n",
    "\n",
    "    Returns:\n",
    "    G (nx.Graph): Empirical graph without edges\n",
    "    \"\"\"\n",
    "    num_facilities = len(data.facid.unique())\n",
    "    \n",
    "    G = nx.Graph()\n",
    "    G.add_nodes_from(range(0, num_facilities))\n",
    "\n",
    "    for i, facility in enumerate(data.facid.unique()):\n",
    "        facility_data = data[data.facid == facility]\n",
    "        X = facility_data[feature_cols].values\n",
    "        y = facility_data[label_col].values\n",
    "\n",
    "        X_train, X_test, y_train, y_test = train_test_split(X, y, test_size = 0.3, random_state = SEED)\n",
    "\n",
    "        for j in range(len(feature_cols)):\n",
    "            if feature_cols[j] in numerical_feature_cols:\n",
    "                X_train_mean = np.mean(X_train[:, j]) \n",
    "                X_train_std = np.std(X_train[:, j])\n",
    "                X_train[:, j] = (X_train[:, j] - X_train_mean) / X_train_std\n",
    "                X_test[:, j] = (X_test[:, j] - X_train_mean) / X_train_std\n",
    "        \n",
    "        X_val, X_test, y_val, y_test = train_test_split(X_test, y_test, test_size = 0.5, random_state = SEED)\n",
    "\n",
    "        \n",
    "        G.nodes[i][\"name\"] = facility\n",
    "        G.nodes[i][\"X_train\"] = X_train.astype(\"float64\")\n",
    "        G.nodes[i][\"y_train\"] = y_train\n",
    "        G.nodes[i][\"X_test\"] = X_test.astype(\"float64\")\n",
    "        G.nodes[i][\"y_test\"] = y_test\n",
    "        G.nodes[i][\"X_val\"] = X_val.astype(\"float64\")\n",
    "        G.nodes[i][\"y_val\"] = y_val\n",
    "        G.nodes[i][\"train_size\"] = X_train.shape[0]\n",
    "        G.nodes[i][\"test_size\"] = X_test.shape[0]\n",
    "        G.nodes[i][\"val_size\"] = X_val.shape[0]\n",
    "        G.nodes[i][\"weights\"] = np.zeros((X_train.shape[1],1))\n",
    "        G.nodes[i][\"z\"] = None # representation vector, will be used for measuring discrepency between nodes\n",
    "        if print_sizes:\n",
    "            print(f\"Node {i + 1} has {X.shape[0]} datapoints (training: {X_train.shape[0]},  validation: {X_val.shape[0]}, test: {X_test.shape[0]})\")\n",
    "    return G\n",
    "\n",
    "def add_edges(G : nx.Graph, node_degree : int):\n",
    "    \"\"\"\n",
    "    Adds edges to the given empirical graph using the representation vectors of each node.\n",
    "\n",
    "    Inputs:\n",
    "    G (nx.Graph): Empirical graph without edges\n",
    "    node_degree (int): the minimum number of neighbors (the minimum node degree)\n",
    "\n",
    "    Returns\n",
    "    graph (nx.Graph): Empirical graph with edges\n",
    "    \"\"\"\n",
    "    graph = G.copy()\n",
    "    \n",
    "    for i in graph.nodes:\n",
    "        z_node = graph.nodes[i][\"z\"]\n",
    "\n",
    "        d_mins = np.full(shape=node_degree, fill_value=1e10)\n",
    "        edges = np.full(shape=(node_degree, 2), fill_value=[i, -1])\n",
    "\n",
    "        for potential_neighbor in graph.nodes:\n",
    "            if potential_neighbor != i:\n",
    "                z_neighbor = graph.nodes[potential_neighbor]['z']\n",
    "                d = np.linalg.norm(z_node - z_neighbor)\n",
    "\n",
    "                # Find the max discrepancy so far.\n",
    "                d_max_idx = np.argmax(d_mins)\n",
    "                d_max = d_mins[d_max_idx]\n",
    "                \n",
    "                if d < d_max:\n",
    "                    d_mins[d_max_idx] = d\n",
    "                    edges[d_max_idx][1] = potential_neighbor\n",
    "\n",
    "        graph.add_edges_from(edges) \n",
    "\n",
    "    return graph\n",
    "\n",
    "def solve_GTVMin(G : nx.Graph, n : int = 10, d : int = 18, gtvmin_alpha : float = 0.1):\n",
    "    \"\"\"\n",
    "    Solves GTVMin in a closed form\n",
    "    If given empirical graph G does not have any edges \n",
    "        then it is equivalent to minimize MSE at each \n",
    "        local dataset individiually without sharing info.\n",
    "\n",
    "    Inputs:\n",
    "    G (nx.Graph): Empirical graph\n",
    "    n (int): Number of nodes/hospitals\n",
    "    d (int): Number of features\n",
    "    gtvmin_alpha (float): Importance of total variation on the solution\n",
    "\n",
    "    Returns\n",
    "    w_hat (np.ndarray): Optimal weights for local models.\n",
    "        shape = (n, d)\n",
    "    \"\"\"\n",
    "    L = nx.laplacian_matrix(G).toarray()\n",
    "    Q = np.zeros((n * d, n * d))\n",
    "    q = np.zeros((n * d, 1))\n",
    "\n",
    "    for i in range(n):\n",
    "        X_i = G.nodes[i][\"X_train\"]\n",
    "        y_i = G.nodes[i][\"y_train\"]\n",
    "        m_i = X_i.shape[0]\n",
    "        Q_i = X_i.T @ X_i / m_i\n",
    "        start_idx, end_idx = i * d, (i + 1) * d\n",
    "        Q[start_idx : end_idx, start_idx : end_idx] = Q_i\n",
    "        q_i = - (2 / m_i) * X_i.T @ y_i\n",
    "        q[start_idx:end_idx] = q_i[:, None]\n",
    "    \n",
    "    Q += gtvmin_alpha * np.kron(L, np.eye(d)) \n",
    "    w_hat = (- np.linalg.inv(Q) @ q / 2).reshape(n,d)\n",
    "    return w_hat\n",
    "\n",
    "def add_edges_rep_vector(G : nx.Graph, node_degree : int):\n",
    "    \"\"\"\n",
    "    Creates representation vectors by learning a local linear model.\n",
    "    Uses the weights of a local model as the representation vector.\n",
    "    Adds edges to the given empirical graph using the representation vectors of each node.\n",
    "\n",
    "    Inputs:\n",
    "    G (nx.Graph): Empirical graph without edges\n",
    "    node_degree (int): the minimum number of neighbors (the minimum node degree)\n",
    "\n",
    "    Returns\n",
    "    graph (nx.Graph): Empirical graph with edges\n",
    "    \"\"\"\n",
    "    graph = G.copy()\n",
    "    w_hat = solve_GTVMin(G, facilities)\n",
    "    \n",
    "    for i in graph.nodes:\n",
    "        graph.nodes[i][\"z\"] = w_hat[i]\n",
    "\n",
    "    graph = add_edges(graph, node_degree)\n",
    "\n",
    "    return graph\n",
    "\n",
    "def plot_G(G : nx.Graph):\n",
    "    \"\"\"\n",
    "    Plots given empirical graph\n",
    "\n",
    "    Inputs:\n",
    "    G (nx.Graph): Empirical graph\n",
    "    \"\"\"\n",
    "    \n",
    "    mapping = {}\n",
    "    for i in range(facilities):\n",
    "        mapping[i] = i + 1\n",
    "    graph = nx.relabel_nodes(G, mapping, True)\n",
    "\n",
    "    server_client = len(graph.edges) == 0\n",
    "    if server_client:\n",
    "        graph.add_node(\"S\")\n",
    "        for node in range(1, facilities + 1):\n",
    "            graph.add_edge(\"S\", node)\n",
    "    \n",
    "    pos = nx.spring_layout(graph, seed=SEED)\n",
    "    nx.draw_networkx_nodes(graph, pos, node_size=400)\n",
    "    nx.draw_networkx_edges(graph, pos, node_size=400, width=2)\n",
    "    nx.draw_networkx_labels(graph, pos)\n",
    "    edge_labels = nx.get_edge_attributes(graph, \"weight\")\n",
    "    nx.draw_networkx_edge_labels(graph, pos, edge_labels)\n",
    "    ax = plt.gca()\n",
    "    if server_client:\n",
    "        ax.text(0.85, 1, 'S: Server', bbox={'facecolor': 'white', 'pad': 10})\n",
    "    ax.margins(0.08)\n",
    "    plt.axis(\"off\")\n",
    "    plt.tight_layout()\n",
    "    plt.savefig(\n",
    "        \"fedsgd.png\" if not server_client else \"fedavg.png\",\n",
    "        transparent = True,\n",
    "        dpi = 300\n",
    "    )\n",
    "    plt.show()\n",
    "    "
   ]
  },
  {
   "cell_type": "code",
   "execution_count": 8,
   "metadata": {},
   "outputs": [
    {
     "name": "stdout",
     "output_type": "stream",
     "text": [
      "Node 1 has 30012 datapoints (training: 21008,  validation: 4502, test: 4502)\n",
      "Node 2 has 30035 datapoints (training: 21024,  validation: 4505, test: 4506)\n",
      "Node 3 has 30755 datapoints (training: 21528,  validation: 4613, test: 4614)\n",
      "Node 4 has 4499 datapoints (training: 3149,  validation: 675, test: 675)\n",
      "Node 5 has 4699 datapoints (training: 3289,  validation: 705, test: 705)\n"
     ]
    },
    {
     "data": {
      "image/png": "[encoded data removed]",
      "text/plain": [
       "<Figure size 640x480 with 1 Axes>"
      ]
     },
     "metadata": {},
     "output_type": "display_data"
    },
    {
     "data": {
      "image/png": "[encoded data removed]",
      "text/plain": [
       "<Figure size 640x480 with 1 Axes>"
      ]
     },
     "metadata": {},
     "output_type": "display_data"
    }
   ],
   "source": [
    "G = get_emprical_graph(df, True)\n",
    "plot_G(G)\n",
    "G = add_edges_rep_vector(G, 2)\n",
    "plot_G(G)"
   ]
  },
  {
   "cell_type": "markdown",
   "metadata": {},
   "source": [
    "## 3 Federated Learning Algorithms"
   ]
  },
  {
   "cell_type": "code",
   "execution_count": 9,
   "metadata": {},
   "outputs": [],
   "source": [
    "def get_losses(G : nx.Graph, print_losses : bool = True):\n",
    "    \"\"\"\n",
    "    Calculates losses of each nodes on training, validation and test sets.\n",
    "\n",
    "    Inputs:\n",
    "    G (nx.Graph): Empirical graph\n",
    "    print_losses (bool): If true -> function prints the losses\n",
    "\n",
    "    Returns:\n",
    "    train_errors (np.ndarray): Losses of each node on their training sets\n",
    "    val_errors (np.ndarray): Losses of each node on their validation sets\n",
    "    test_errors (np.ndarray): Losses of each node on their test sets\n",
    "    \"\"\"\n",
    "    n = len(G.nodes)\n",
    "    train_errors = np.zeros(n)\n",
    "    val_errors = np.zeros(n)\n",
    "    test_errors = np.zeros(n)\n",
    "\n",
    "    for node in G.nodes:\n",
    "        X_train = G.nodes[node]['X_train']\n",
    "        y_train = G.nodes[node]['y_train']\n",
    "        X_test = G.nodes[node]['X_test']\n",
    "        y_test = G.nodes[node]['y_test']\n",
    "        X_val = G.nodes[node]['X_val']\n",
    "        y_val = G.nodes[node]['y_val']\n",
    "        w = G.nodes[node]['weights']\n",
    "        \n",
    "        train_errors[node] = mean_squared_error(y_train, X_train.dot(w))\n",
    "        val_errors[node] = mean_squared_error(y_val, X_val.dot(w))\n",
    "        test_errors[node] = mean_squared_error(y_test, X_test.dot(w))\n",
    "        \n",
    "\n",
    "    if print_losses:\n",
    "        print(\"The average training error:\", np.round(np.mean(train_errors), 3))\n",
    "        print(\"The average validation error:\", np.round(np.mean(val_errors), 3))\n",
    "        print(\"The average test error:\", np.round(np.mean(test_errors), 3))\n",
    "    return train_errors, val_errors, test_errors\n",
    "\n",
    "def print_losses(train_errors, val_errors, test_errors):\n",
    "    print(\"Node-i: (train_errors[i], val_errors[i], test_errors[i])\")\n",
    "    for i in range(facilities):\n",
    "        print(f\"Node-{i + 1}: {(np.round(train_errors[i], 3), np.round(val_errors[i], 3), np.round(test_errors[i], 3))}\")"
   ]
  },
  {
   "cell_type": "markdown",
   "metadata": {},
   "source": [
    "### 3.1 FedSGD"
   ]
  },
  {
   "cell_type": "code",
   "execution_count": 10,
   "metadata": {},
   "outputs": [],
   "source": [
    "def FedSGD(G : nx.Graph, gtvmin_alpha : float = 0.1, learning_rate : float = 0.001, batch_size : int = 64, max_iter : int = 100, random_seed : int = SEED):\n",
    "    \"\"\"\n",
    "    Applies federated stochastic gradient descent to solve GTVMin\n",
    "\n",
    "    Inputs:\n",
    "    G (nx.Graph): Empirical graph\n",
    "    gtvmin_alpha (float): Importance of total variation on the solution\n",
    "    learning_rate (float): Learning rate\n",
    "    batch_size (int): Batch size\n",
    "    max_iter (int): Maximum number of iterations\n",
    "    random_seed (int): Random seed for reproducibility\n",
    "    \"\"\"\n",
    "    np.random.seed(random_seed)\n",
    "    for _ in tqdm(range(max_iter)):\n",
    "        for node in G.nodes:\n",
    "            train_size = G.nodes[node][\"train_size\"]\n",
    "            batch_idx = np.random.choice(train_size, batch_size, replace=False)\n",
    "            X_train_batch = G.nodes[node][\"X_train\"][batch_idx]\n",
    "            y_train_batch = G.nodes[node][\"y_train\"][batch_idx, None]\n",
    "            w_current =  G.nodes[node][\"weights\"]\n",
    "\n",
    "            term_1 = (2/batch_size) * X_train_batch.T.dot(y_train_batch - X_train_batch.dot(w_current))\n",
    "        \n",
    "            term_2 = 0\n",
    "            neighbors = list(G.neighbors(node))\n",
    "            for neighbor in neighbors:\n",
    "                w_neighbor = G.nodes[neighbor]['weights']\n",
    "                term_2 += (w_neighbor - w_current)\n",
    "            term_2 *= 2 * gtvmin_alpha\n",
    "\n",
    "            w_updated = w_current + learning_rate * (term_1 + term_2)\n",
    "            G.nodes[node][\"updated_weights\"] = w_updated\n",
    "        \n",
    "        for node in G.nodes: \n",
    "            G.nodes[node][\"weights\"] = G.nodes[node][\"updated_weights\"]"
   ]
  },
  {
   "cell_type": "markdown",
   "metadata": {},
   "source": [
    "Hyperparameter tuning by validation"
   ]
  },
  {
   "cell_type": "code",
   "execution_count": 11,
   "metadata": {},
   "outputs": [
    {
     "name": "stdout",
     "output_type": "stream",
     "text": [
      "Validation of (gtvmin_alpha, learning_rate, num_neighbors) = (1, 0.1, 2)\n"
     ]
    },
    {
     "name": "stderr",
     "output_type": "stream",
     "text": [
      "100%|██████████| 1000/1000 [00:02<00:00, 468.57it/s]\n"
     ]
    },
    {
     "name": "stdout",
     "output_type": "stream",
     "text": [
      "The best values are updated\n",
      "Validation of (gtvmin_alpha, learning_rate, num_neighbors) = (1, 0.01, 2)\n"
     ]
    },
    {
     "name": "stderr",
     "output_type": "stream",
     "text": [
      "100%|██████████| 1000/1000 [00:01<00:00, 594.56it/s]\n"
     ]
    },
    {
     "name": "stdout",
     "output_type": "stream",
     "text": [
      "Validation of (gtvmin_alpha, learning_rate, num_neighbors) = (1, 0.001, 2)\n"
     ]
    },
    {
     "name": "stderr",
     "output_type": "stream",
     "text": [
      "100%|██████████| 1000/1000 [00:01<00:00, 603.38it/s]\n"
     ]
    },
    {
     "name": "stdout",
     "output_type": "stream",
     "text": [
      "Validation of (gtvmin_alpha, learning_rate, num_neighbors) = (0.5, 0.1, 2)\n"
     ]
    },
    {
     "name": "stderr",
     "output_type": "stream",
     "text": [
      "100%|██████████| 1000/1000 [00:01<00:00, 599.89it/s]\n"
     ]
    },
    {
     "name": "stdout",
     "output_type": "stream",
     "text": [
      "The best values are updated\n",
      "Validation of (gtvmin_alpha, learning_rate, num_neighbors) = (0.5, 0.01, 2)\n"
     ]
    },
    {
     "name": "stderr",
     "output_type": "stream",
     "text": [
      "100%|██████████| 1000/1000 [00:01<00:00, 609.06it/s]\n"
     ]
    },
    {
     "name": "stdout",
     "output_type": "stream",
     "text": [
      "Validation of (gtvmin_alpha, learning_rate, num_neighbors) = (0.5, 0.001, 2)\n"
     ]
    },
    {
     "name": "stderr",
     "output_type": "stream",
     "text": [
      "100%|██████████| 1000/1000 [00:01<00:00, 595.37it/s]\n"
     ]
    },
    {
     "name": "stdout",
     "output_type": "stream",
     "text": [
      "Validation of (gtvmin_alpha, learning_rate, num_neighbors) = (0.1, 0.1, 2)\n"
     ]
    },
    {
     "name": "stderr",
     "output_type": "stream",
     "text": [
      "100%|██████████| 1000/1000 [00:01<00:00, 594.09it/s]\n"
     ]
    },
    {
     "name": "stdout",
     "output_type": "stream",
     "text": [
      "The best values are updated\n",
      "Validation of (gtvmin_alpha, learning_rate, num_neighbors) = (0.1, 0.01, 2)\n"
     ]
    },
    {
     "name": "stderr",
     "output_type": "stream",
     "text": [
      "100%|██████████| 1000/1000 [00:01<00:00, 609.80it/s]\n"
     ]
    },
    {
     "name": "stdout",
     "output_type": "stream",
     "text": [
      "Validation of (gtvmin_alpha, learning_rate, num_neighbors) = (0.1, 0.001, 2)\n"
     ]
    },
    {
     "name": "stderr",
     "output_type": "stream",
     "text": [
      "100%|██████████| 1000/1000 [00:01<00:00, 602.24it/s]\n"
     ]
    },
    {
     "name": "stdout",
     "output_type": "stream",
     "text": [
      "Validation of (gtvmin_alpha, learning_rate, num_neighbors) = (1, 0.1, 3)\n"
     ]
    },
    {
     "name": "stderr",
     "output_type": "stream",
     "text": [
      "100%|██████████| 1000/1000 [00:01<00:00, 604.37it/s]\n"
     ]
    },
    {
     "name": "stdout",
     "output_type": "stream",
     "text": [
      "Validation of (gtvmin_alpha, learning_rate, num_neighbors) = (1, 0.01, 3)\n"
     ]
    },
    {
     "name": "stderr",
     "output_type": "stream",
     "text": [
      "100%|██████████| 1000/1000 [00:01<00:00, 613.73it/s]\n"
     ]
    },
    {
     "name": "stdout",
     "output_type": "stream",
     "text": [
      "Validation of (gtvmin_alpha, learning_rate, num_neighbors) = (1, 0.001, 3)\n"
     ]
    },
    {
     "name": "stderr",
     "output_type": "stream",
     "text": [
      "100%|██████████| 1000/1000 [00:01<00:00, 632.52it/s]\n"
     ]
    },
    {
     "name": "stdout",
     "output_type": "stream",
     "text": [
      "Validation of (gtvmin_alpha, learning_rate, num_neighbors) = (0.5, 0.1, 3)\n"
     ]
    },
    {
     "name": "stderr",
     "output_type": "stream",
     "text": [
      "100%|██████████| 1000/1000 [00:01<00:00, 640.88it/s]\n"
     ]
    },
    {
     "name": "stdout",
     "output_type": "stream",
     "text": [
      "Validation of (gtvmin_alpha, learning_rate, num_neighbors) = (0.5, 0.01, 3)\n"
     ]
    },
    {
     "name": "stderr",
     "output_type": "stream",
     "text": [
      "100%|██████████| 1000/1000 [00:01<00:00, 647.64it/s]\n"
     ]
    },
    {
     "name": "stdout",
     "output_type": "stream",
     "text": [
      "Validation of (gtvmin_alpha, learning_rate, num_neighbors) = (0.5, 0.001, 3)\n"
     ]
    },
    {
     "name": "stderr",
     "output_type": "stream",
     "text": [
      "100%|██████████| 1000/1000 [00:01<00:00, 647.41it/s]\n"
     ]
    },
    {
     "name": "stdout",
     "output_type": "stream",
     "text": [
      "Validation of (gtvmin_alpha, learning_rate, num_neighbors) = (0.1, 0.1, 3)\n"
     ]
    },
    {
     "name": "stderr",
     "output_type": "stream",
     "text": [
      "100%|██████████| 1000/1000 [00:01<00:00, 640.74it/s]\n"
     ]
    },
    {
     "name": "stdout",
     "output_type": "stream",
     "text": [
      "Validation of (gtvmin_alpha, learning_rate, num_neighbors) = (0.1, 0.01, 3)\n"
     ]
    },
    {
     "name": "stderr",
     "output_type": "stream",
     "text": [
      "100%|██████████| 1000/1000 [00:01<00:00, 646.21it/s]\n"
     ]
    },
    {
     "name": "stdout",
     "output_type": "stream",
     "text": [
      "Validation of (gtvmin_alpha, learning_rate, num_neighbors) = (0.1, 0.001, 3)\n"
     ]
    },
    {
     "name": "stderr",
     "output_type": "stream",
     "text": [
      "100%|██████████| 1000/1000 [00:01<00:00, 651.29it/s]\n"
     ]
    },
    {
     "name": "stdout",
     "output_type": "stream",
     "text": [
      "Validation of (gtvmin_alpha, learning_rate, num_neighbors) = (1, 0.1, 4)\n"
     ]
    },
    {
     "name": "stderr",
     "output_type": "stream",
     "text": [
      "100%|██████████| 1000/1000 [00:01<00:00, 645.61it/s]\n"
     ]
    },
    {
     "name": "stdout",
     "output_type": "stream",
     "text": [
      "Validation of (gtvmin_alpha, learning_rate, num_neighbors) = (1, 0.01, 4)\n"
     ]
    },
    {
     "name": "stderr",
     "output_type": "stream",
     "text": [
      "100%|██████████| 1000/1000 [00:01<00:00, 648.99it/s]\n"
     ]
    },
    {
     "name": "stdout",
     "output_type": "stream",
     "text": [
      "Validation of (gtvmin_alpha, learning_rate, num_neighbors) = (1, 0.001, 4)\n"
     ]
    },
    {
     "name": "stderr",
     "output_type": "stream",
     "text": [
      "100%|██████████| 1000/1000 [00:01<00:00, 644.43it/s]\n"
     ]
    },
    {
     "name": "stdout",
     "output_type": "stream",
     "text": [
      "Validation of (gtvmin_alpha, learning_rate, num_neighbors) = (0.5, 0.1, 4)\n"
     ]
    },
    {
     "name": "stderr",
     "output_type": "stream",
     "text": [
      "100%|██████████| 1000/1000 [00:01<00:00, 645.99it/s]\n"
     ]
    },
    {
     "name": "stdout",
     "output_type": "stream",
     "text": [
      "Validation of (gtvmin_alpha, learning_rate, num_neighbors) = (0.5, 0.01, 4)\n"
     ]
    },
    {
     "name": "stderr",
     "output_type": "stream",
     "text": [
      "100%|██████████| 1000/1000 [00:01<00:00, 644.91it/s]\n"
     ]
    },
    {
     "name": "stdout",
     "output_type": "stream",
     "text": [
      "Validation of (gtvmin_alpha, learning_rate, num_neighbors) = (0.5, 0.001, 4)\n"
     ]
    },
    {
     "name": "stderr",
     "output_type": "stream",
     "text": [
      "100%|██████████| 1000/1000 [00:01<00:00, 647.78it/s]\n"
     ]
    },
    {
     "name": "stdout",
     "output_type": "stream",
     "text": [
      "Validation of (gtvmin_alpha, learning_rate, num_neighbors) = (0.1, 0.1, 4)\n"
     ]
    },
    {
     "name": "stderr",
     "output_type": "stream",
     "text": [
      "100%|██████████| 1000/1000 [00:01<00:00, 639.95it/s]\n"
     ]
    },
    {
     "name": "stdout",
     "output_type": "stream",
     "text": [
      "Validation of (gtvmin_alpha, learning_rate, num_neighbors) = (0.1, 0.01, 4)\n"
     ]
    },
    {
     "name": "stderr",
     "output_type": "stream",
     "text": [
      "100%|██████████| 1000/1000 [00:01<00:00, 633.31it/s]\n"
     ]
    },
    {
     "name": "stdout",
     "output_type": "stream",
     "text": [
      "Validation of (gtvmin_alpha, learning_rate, num_neighbors) = (0.1, 0.001, 4)\n"
     ]
    },
    {
     "name": "stderr",
     "output_type": "stream",
     "text": [
      "100%|██████████| 1000/1000 [00:01<00:00, 648.92it/s]\n"
     ]
    },
    {
     "data": {
      "image/png": "[encoded data removed]",
      "text/plain": [
       "<Figure size 640x480 with 1 Axes>"
      ]
     },
     "metadata": {},
     "output_type": "display_data"
    },
    {
     "name": "stderr",
     "output_type": "stream",
     "text": [
      "100%|██████████| 1000/1000 [00:01<00:00, 650.15it/s]"
     ]
    },
    {
     "name": "stdout",
     "output_type": "stream",
     "text": [
      "The average training error: 1.377\n",
      "The average validation error: 1.407\n",
      "The average test error: 1.354\n",
      "Node-i: (train_errors[i], val_errors[i], test_errors[i])\n",
      "Node-1: (1.136, 1.142, 1.061)\n",
      "Node-2: (1.123, 1.214, 1.097)\n",
      "Node-3: (1.603, 1.585, 1.685)\n",
      "Node-4: (1.52, 1.577, 1.361)\n",
      "Node-5: (1.503, 1.514, 1.565)\n"
     ]
    },
    {
     "name": "stderr",
     "output_type": "stream",
     "text": [
      "\n"
     ]
    }
   ],
   "source": [
    "tune_FedSGD = True\n",
    "iter = 1000\n",
    "batch = 512\n",
    "gtvmin_alphas = [1, 0.5, 0.1]\n",
    "learning_rates = [0.1, 0.01, 0.001]\n",
    "nums_neighnors = [1, 2, 3, 4]\n",
    "\n",
    "if not tune_FedSGD:\n",
    "    best_num_neigbors = 2\n",
    "    best_gtvmin_alpha = 0.1\n",
    "    best_learning_rate = 0.1\n",
    "else:\n",
    "    min_val_loss = np.inf\n",
    "    best_gtvmin_alpha = None\n",
    "    best_learning_rate = None\n",
    "    best_num_neigbors = None\n",
    "    for num_neighbors in nums_neighnors:\n",
    "        for gtvmin_alpha in gtvmin_alphas:\n",
    "            for learning_rate in learning_rates:\n",
    "                G = get_emprical_graph(df)\n",
    "                G = add_edges_rep_vector(G, num_neighbors)\n",
    "                \n",
    "                if not nx.is_connected(G):\n",
    "                    continue\n",
    "                print(f\"Validation of (gtvmin_alpha, learning_rate, num_neighbors) = {(gtvmin_alpha, learning_rate, num_neighbors)}\")\n",
    "                FedSGD(G, gtvmin_alpha, learning_rate, batch, iter)\n",
    "                _, val_loss, _ = get_losses(G, print_losses=False)\n",
    "                val_loss = np.mean(val_loss)\n",
    "                if val_loss < min_val_loss:\n",
    "                    min_val_loss = val_loss\n",
    "                    best_gtvmin_alpha = gtvmin_alpha\n",
    "                    best_learning_rate = learning_rate\n",
    "                    best_num_neigbors = num_neighbors\n",
    "                    print(\"The best values are updated\")\n",
    "\n",
    "\n",
    "G = get_emprical_graph(df)\n",
    "G = add_edges_rep_vector(G, best_num_neigbors)\n",
    "plot_G(G)\n",
    "FedSGD(G, best_gtvmin_alpha, best_learning_rate, batch, iter)\n",
    "train_errors, val_errors, test_errors = get_losses(G)\n",
    "\n",
    "print_losses(train_errors, val_errors, test_errors)"
   ]
  },
  {
   "cell_type": "markdown",
   "metadata": {},
   "source": [
    "## FedAVG"
   ]
  },
  {
   "cell_type": "code",
   "execution_count": 12,
   "metadata": {},
   "outputs": [],
   "source": [
    "def FedAVGv1(G : nx.Graph, learning_rate : float = 0.001, max_iter : int = 100):\n",
    "    \"\"\"\n",
    "    Applies federated averaging\n",
    "\n",
    "    Inputs:\n",
    "    G (nx.Graph): Empirical graph\n",
    "    learning_rate (float): Learning rate\n",
    "    max_iter (int): Maximum number of iterations\n",
    "    \"\"\"\n",
    "    w_shape = G.nodes[0][\"weights\"].shape\n",
    "    global_w = np.zeros(w_shape)\n",
    "    \n",
    "    for _ in tqdm(range(max_iter)):\n",
    "        w_sum = np.zeros(w_shape)\n",
    "        for node in G.nodes:\n",
    "            train_size = G.nodes[node][\"train_size\"]\n",
    "            X_train = G.nodes[node][\"X_train\"]\n",
    "            y_train = G.nodes[node][\"y_train\"][:, None]\n",
    "            G.nodes[node][\"weights\"] = global_w + learning_rate * (2 / train_size) * X_train.T.dot(y_train - X_train.dot(global_w))\n",
    "            w_sum += G.nodes[node][\"weights\"]\n",
    "        \n",
    "        global_w = w_sum / len(G.nodes)\n",
    "\n",
    "def FedAVGv2(G : nx.Graph, learning_rate : float = 0.001, max_iter : int = 100):\n",
    "    \"\"\"\n",
    "    Applies federated averaging\n",
    "\n",
    "    Inputs:\n",
    "    G (nx.Graph): Empirical graph\n",
    "    learning_rate (float): Learning rate\n",
    "    max_iter (int): Maximum number of iterations\n",
    "    \"\"\"\n",
    "    w_shape = G.nodes[0][\"weights\"].shape\n",
    "    global_w = np.zeros(w_shape)\n",
    "    \n",
    "    for _ in tqdm(range(max_iter)):\n",
    "        w_sum = np.zeros(w_shape)\n",
    "        for node in G.nodes:\n",
    "            train_size = G.nodes[node][\"train_size\"]\n",
    "            X_train = G.nodes[node][\"X_train\"]\n",
    "            y_train = G.nodes[node][\"y_train\"][:, None]\n",
    "            A = X_train.T.dot(X_train) + (train_size / learning_rate) * np.eye(w_shape[0])\n",
    "            b = X_train.T.dot(y_train) + (train_size / learning_rate) * global_w\n",
    "            G.nodes[node][\"weights\"] = np.linalg.solve(A, b)\n",
    "            w_sum += G.nodes[node][\"weights\"]\n",
    "        \n",
    "        global_w = w_sum / len(G.nodes)"
   ]
  },
  {
   "cell_type": "code",
   "execution_count": 13,
   "metadata": {},
   "outputs": [
    {
     "name": "stdout",
     "output_type": "stream",
     "text": [
      "Validation of (learning_rate) = 0.1\n"
     ]
    },
    {
     "name": "stderr",
     "output_type": "stream",
     "text": [
      "100%|██████████| 1000/1000 [00:01<00:00, 872.69it/s]\n"
     ]
    },
    {
     "name": "stdout",
     "output_type": "stream",
     "text": [
      "The best values are updated\n",
      "Validation of (learning_rate) = 0.01\n"
     ]
    },
    {
     "name": "stderr",
     "output_type": "stream",
     "text": [
      "100%|██████████| 1000/1000 [00:01<00:00, 931.56it/s]\n"
     ]
    },
    {
     "name": "stdout",
     "output_type": "stream",
     "text": [
      "Validation of (learning_rate) = 0.001\n"
     ]
    },
    {
     "name": "stderr",
     "output_type": "stream",
     "text": [
      "100%|██████████| 1000/1000 [00:00<00:00, 1009.12it/s]\n"
     ]
    },
    {
     "data": {
      "image/png": "[encoded data removed]",
      "text/plain": [
       "<Figure size 640x480 with 1 Axes>"
      ]
     },
     "metadata": {},
     "output_type": "display_data"
    },
    {
     "name": "stderr",
     "output_type": "stream",
     "text": [
      "100%|██████████| 1000/1000 [00:01<00:00, 958.53it/s]"
     ]
    },
    {
     "name": "stdout",
     "output_type": "stream",
     "text": [
      "The average training error: 1.816\n",
      "The average validation error: 1.834\n",
      "The average test error: 1.798\n",
      "Node-i: (train_errors[i], val_errors[i], test_errors[i])\n",
      "Node-1: (1.728, 1.749, 1.666)\n",
      "Node-2: (1.724, 1.81, 1.706)\n",
      "Node-3: (2.104, 2.085, 2.224)\n",
      "Node-4: (1.704, 1.764, 1.525)\n",
      "Node-5: (1.819, 1.763, 1.87)\n"
     ]
    },
    {
     "name": "stderr",
     "output_type": "stream",
     "text": [
      "\n"
     ]
    }
   ],
   "source": [
    "tune_FedAVGv1 = True\n",
    "iter = 1000\n",
    "learning_rates = [0.1, 0.01, 0.001]\n",
    "\n",
    "if not tune_FedAVGv1:\n",
    "    best_learning_rate = 0.1\n",
    "else:\n",
    "    min_val_loss = np.inf\n",
    "    best_learning_rate = None\n",
    "    for learning_rate in learning_rates:\n",
    "        G = get_emprical_graph(df)\n",
    "        print(f\"Validation of (learning_rate) = {(learning_rate)}\")\n",
    "        FedAVGv1(G, learning_rate = learning_rate, max_iter=iter)\n",
    "        _, val_loss, _ = get_losses(G, print_losses=False)\n",
    "        val_loss = np.mean(val_loss)\n",
    "        if val_loss < min_val_loss:\n",
    "            min_val_loss = val_loss\n",
    "            best_learning_rate = learning_rate\n",
    "            print(\"The best values are updated\")\n",
    "\n",
    "G = get_emprical_graph(df)\n",
    "plot_G(G)\n",
    "FedAVGv1(G, learning_rate = best_learning_rate, max_iter=iter)\n",
    "train_errors, val_errors, test_errors = get_losses(G)\n",
    "\n",
    "print_losses(train_errors, val_errors, test_errors)"
   ]
  },
  {
   "cell_type": "code",
   "execution_count": 14,
   "metadata": {},
   "outputs": [
    {
     "name": "stdout",
     "output_type": "stream",
     "text": [
      "Validation of (learning_rate) = 0.1\n"
     ]
    },
    {
     "name": "stderr",
     "output_type": "stream",
     "text": [
      "100%|██████████| 1000/1000 [00:03<00:00, 288.60it/s]\n"
     ]
    },
    {
     "name": "stdout",
     "output_type": "stream",
     "text": [
      "The best values are updated\n",
      "Validation of (learning_rate) = 0.01\n"
     ]
    },
    {
     "name": "stderr",
     "output_type": "stream",
     "text": [
      "100%|██████████| 1000/1000 [00:03<00:00, 281.93it/s]\n"
     ]
    },
    {
     "name": "stdout",
     "output_type": "stream",
     "text": [
      "Validation of (learning_rate) = 0.001\n"
     ]
    },
    {
     "name": "stderr",
     "output_type": "stream",
     "text": [
      "100%|██████████| 1000/1000 [00:03<00:00, 287.52it/s]\n"
     ]
    },
    {
     "data": {
      "image/png": "[encoded data removed]",
      "text/plain": [
       "<Figure size 640x480 with 1 Axes>"
      ]
     },
     "metadata": {},
     "output_type": "display_data"
    },
    {
     "name": "stderr",
     "output_type": "stream",
     "text": [
      "100%|██████████| 1000/1000 [00:03<00:00, 290.71it/s]"
     ]
    },
    {
     "name": "stdout",
     "output_type": "stream",
     "text": [
      "The average training error: 1.911\n",
      "The average validation error: 1.928\n",
      "The average test error: 1.897\n",
      "Node-i: (train_errors[i], val_errors[i], test_errors[i])\n",
      "Node-1: (1.828, 1.843, 1.767)\n",
      "Node-2: (1.829, 1.913, 1.81)\n",
      "Node-3: (2.236, 2.216, 2.358)\n",
      "Node-4: (1.767, 1.839, 1.592)\n",
      "Node-5: (1.895, 1.827, 1.957)\n"
     ]
    },
    {
     "name": "stderr",
     "output_type": "stream",
     "text": [
      "\n"
     ]
    }
   ],
   "source": [
    "tune_FedAVGv2 = True\n",
    "iter = 1000\n",
    "learning_rates = [0.1, 0.01, 0.001]\n",
    "\n",
    "if not tune_FedAVGv2:\n",
    "    best_learning_rate = 0.1\n",
    "else:\n",
    "    min_val_loss = np.inf\n",
    "    best_learning_rate = None\n",
    "    for learning_rate in learning_rates:\n",
    "        G = get_emprical_graph(df)\n",
    "        print(f\"Validation of (learning_rate) = {(learning_rate)}\")\n",
    "        FedAVGv2(G, learning_rate = learning_rate, max_iter=iter)\n",
    "        _, val_loss, _ = get_losses(G, print_losses=False)\n",
    "        val_loss = np.mean(val_loss)\n",
    "        if val_loss < min_val_loss:\n",
    "            min_val_loss = val_loss\n",
    "            best_learning_rate = learning_rate\n",
    "            print(\"The best values are updated\")\n",
    "\n",
    "G = get_emprical_graph(df)\n",
    "plot_G(G)\n",
    "FedAVGv2(G, learning_rate = best_learning_rate, max_iter=iter)\n",
    "train_errors, val_errors, test_errors = get_losses(G)\n",
    "\n",
    "print_losses(train_errors, val_errors, test_errors)"
   ]
  },
  {
   "cell_type": "code",
   "execution_count": null,
   "metadata": {},
   "outputs": [],
   "source": []
  }
 ],
 "metadata": {
  "kernelspec": {
   "display_name": "Python 3",
   "language": "python",
   "name": "python3"
  },
  "language_info": {
   "codemirror_mode": {
    "name": "ipython",
    "version": 3
   },
   "file_extension": ".py",
   "mimetype": "text/x-python",
   "name": "python",
   "nbconvert_exporter": "python",
   "pygments_lexer": "ipython3",
   "version": "3.10.12"
  }
 },
 "nbformat": 4,
 "nbformat_minor": 4
}
